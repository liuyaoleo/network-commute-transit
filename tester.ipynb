{
 "cells": [
  {
   "cell_type": "code",
   "execution_count": 1,
   "metadata": {},
   "outputs": [],
   "source": [
    "import requests\n",
    "import pandas as pd\n",
    "import multiprocessing as mp\n",
    "import datetime as dt"
   ]
  },
  {
   "cell_type": "code",
   "execution_count": 2,
   "metadata": {},
   "outputs": [],
   "source": [
    "data = pd.read_csv('SperoniOSRMdata.csv')\n",
    "keys = data.keys()\n",
    "data = pd.DataFrame(data,columns=[keys[0],keys[1],keys[2],keys[3],keys[4],keys[9],keys[8]])\n",
    "keys = data.keys()"
   ]
  },
  {
   "cell_type": "code",
   "execution_count": 3,
   "metadata": {},
   "outputs": [
    {
     "name": "stdout",
     "output_type": "stream",
     "text": [
      "[(0, 8199), (8199, 16398), (16398, 24597), (24597, 32796)]\n"
     ]
    }
   ],
   "source": [
    "cores = mp.cpu_count()\n",
    "rows = data.shape[0]\n",
    "group = rows // cores\n",
    "\n",
    "mpCount = [(group*i,group*(i+1)) for i in range(cores)]\n",
    "\n",
    "print(mpCount)"
   ]
  },
  {
   "cell_type": "code",
   "execution_count": 4,
   "metadata": {},
   "outputs": [],
   "source": [
    "def mp_transitTime(index):\n",
    "    cols = ['Trip ID','Duration (min)','Walking Time (min)','Transit Time (min)',\n",
    "            'Walking Distance (Mi)','Transfers','Message']\n",
    "    responses = {cols[0]:[],cols[1]:[],cols[2]:[],\n",
    "                 cols[3]:[],cols[4]:[],cols[5]:[],cols[6]:[]}\n",
    "    worker = mp.current_process()\n",
    "    wid = worker.name\n",
    "\n",
    "    for i in range(index[0],index[1]):\n",
    "        # collecting values\n",
    "        vals = []\n",
    "        for j in range(0,len(keys)):\n",
    "            vals.append(data[keys[j]][i])\n",
    "        vals[6] = vals[6][0:-5]\n",
    "\n",
    "        # url for calling the server\n",
    "        localhost = 'http://127.0.0.1:8080/otp/routers/default/'\n",
    "        url = localhost + 'plan?'\n",
    "        url += 'fromPlace={0},{1}'.format(vals[1],vals[2])\n",
    "        url += '&toPlace={0},{1}'.format(vals[3],vals[4])\n",
    "        url += '&time={0}'.format(vals[5])\n",
    "        url += '&date={0}'.format(vals[6])\n",
    "        url += '&mode=TRANSIT,WALK'\n",
    "        # 805, 3220, 8047\n",
    "        url += '&maxWalkDistance=805'\n",
    "        url += '&arriveBy=true'\n",
    "        url += '&optimize=QUICK'\n",
    "        response = requests.get(url).json()\n",
    "\n",
    "        responses[cols[0]].append(vals[0])\n",
    "        if 'plan' in response:\n",
    "            r = response['plan']['itineraries']\n",
    "\n",
    "            responses[cols[1]].append(r[0]['duration']/60)\n",
    "            responses[cols[2]].append(r[0]['walkTime']/60)\n",
    "            responses[cols[3]].append(r[0]['transitTime']/60)\n",
    "            responses[cols[4]].append(r[0]['walkDistance']/1609.34)\n",
    "            responses[cols[5]].append(r[0]['transfers'])\n",
    "            responses[cols[6]].append('Successful Run')\n",
    "        else:\n",
    "            responses[cols[1]].append(None)\n",
    "            responses[cols[2]].append(None)\n",
    "            responses[cols[3]].append(None)\n",
    "            responses[cols[4]].append(None)\n",
    "            responses[cols[5]].append(None)\n",
    "            responses[cols[6]].append(response['error']['msg'][0:14])\n",
    "            \n",
    "    now = dt.datetime.now().strftime(\"%H%M\")\n",
    "    print('index',index,'done processing', now, wid)\n",
    "    return responses"
   ]
  },
  {
   "cell_type": "code",
   "execution_count": 5,
   "metadata": {},
   "outputs": [
    {
     "name": "stdout",
     "output_type": "stream",
     "text": [
      "Starting processing at 154007\n",
      "index (0, 8199) done processing 1607 ForkPoolWorker-1\n",
      "index (16398, 24597) done processing 1608 ForkPoolWorker-3\n",
      "index (24597, 32796) done processing 1608 ForkPoolWorker-4\n",
      "index (8199, 16398) done processing 1611 ForkPoolWorker-2\n",
      "Finished processing at 161127\n",
      "(32796, 7)\n"
     ]
    },
    {
     "data": {
      "text/html": [
       "<div>\n",
       "<style scoped>\n",
       "    .dataframe tbody tr th:only-of-type {\n",
       "        vertical-align: middle;\n",
       "    }\n",
       "\n",
       "    .dataframe tbody tr th {\n",
       "        vertical-align: top;\n",
       "    }\n",
       "\n",
       "    .dataframe thead th {\n",
       "        text-align: right;\n",
       "    }\n",
       "</style>\n",
       "<table border=\"1\" class=\"dataframe\">\n",
       "  <thead>\n",
       "    <tr style=\"text-align: right;\">\n",
       "      <th></th>\n",
       "      <th>Trip ID</th>\n",
       "      <th>Duration (min)</th>\n",
       "      <th>Walking Time (min)</th>\n",
       "      <th>Transit Time (min)</th>\n",
       "      <th>Walking Distance (m)</th>\n",
       "      <th>Transfers</th>\n",
       "      <th>Message</th>\n",
       "    </tr>\n",
       "  </thead>\n",
       "  <tbody>\n",
       "    <tr>\n",
       "      <th>0</th>\n",
       "      <td>1248167</td>\n",
       "      <td>16.966667</td>\n",
       "      <td>16.966667</td>\n",
       "      <td>0.000000</td>\n",
       "      <td>1315.121301</td>\n",
       "      <td>0.0</td>\n",
       "      <td>Successful Run</td>\n",
       "    </tr>\n",
       "    <tr>\n",
       "      <th>1</th>\n",
       "      <td>1108571</td>\n",
       "      <td>22.150000</td>\n",
       "      <td>18.500000</td>\n",
       "      <td>3.616667</td>\n",
       "      <td>1400.756331</td>\n",
       "      <td>0.0</td>\n",
       "      <td>Successful Run</td>\n",
       "    </tr>\n",
       "    <tr>\n",
       "      <th>2</th>\n",
       "      <td>1229641</td>\n",
       "      <td>NaN</td>\n",
       "      <td>NaN</td>\n",
       "      <td>NaN</td>\n",
       "      <td>NaN</td>\n",
       "      <td>NaN</td>\n",
       "      <td>No trip found.</td>\n",
       "    </tr>\n",
       "    <tr>\n",
       "      <th>3</th>\n",
       "      <td>1022430</td>\n",
       "      <td>NaN</td>\n",
       "      <td>NaN</td>\n",
       "      <td>NaN</td>\n",
       "      <td>NaN</td>\n",
       "      <td>NaN</td>\n",
       "      <td>No trip found.</td>\n",
       "    </tr>\n",
       "    <tr>\n",
       "      <th>4</th>\n",
       "      <td>1327145</td>\n",
       "      <td>NaN</td>\n",
       "      <td>NaN</td>\n",
       "      <td>NaN</td>\n",
       "      <td>NaN</td>\n",
       "      <td>NaN</td>\n",
       "      <td>No trip found.</td>\n",
       "    </tr>\n",
       "  </tbody>\n",
       "</table>\n",
       "</div>"
      ],
      "text/plain": [
       "   Trip ID  Duration (min)  Walking Time (min)  Transit Time (min)  \\\n",
       "0  1248167       16.966667           16.966667            0.000000   \n",
       "1  1108571       22.150000           18.500000            3.616667   \n",
       "2  1229641             NaN                 NaN                 NaN   \n",
       "3  1022430             NaN                 NaN                 NaN   \n",
       "4  1327145             NaN                 NaN                 NaN   \n",
       "\n",
       "   Walking Distance (m)  Transfers         Message  \n",
       "0           1315.121301        0.0  Successful Run  \n",
       "1           1400.756331        0.0  Successful Run  \n",
       "2                   NaN        NaN  No trip found.  \n",
       "3                   NaN        NaN  No trip found.  \n",
       "4                   NaN        NaN  No trip found.  "
      ]
     },
     "execution_count": 5,
     "metadata": {},
     "output_type": "execute_result"
    }
   ],
   "source": [
    "pool = mp.Pool(cores)\n",
    "\n",
    "now = dt.datetime.now().strftime(\"%H%M%S\")\n",
    "print('Starting processing at', now)\n",
    "\n",
    "results = pool.map(mp_transitTime,mpCount)\n",
    "\n",
    "now = dt.datetime.now().strftime(\"%H%M%S\")\n",
    "print('Finished processing at', now)\n",
    "\n",
    "df = pd.concat([pd.DataFrame(d) for d in results],ignore_index=True)\n",
    "    \n",
    "pool.close()\n",
    "\n",
    "print(df.shape)\n",
    "df.head()"
   ]
  },
  {
   "cell_type": "code",
   "execution_count": 6,
   "metadata": {},
   "outputs": [],
   "source": [
    "now = dt.datetime.now().strftime(\"%Y%m%d-%H%M\")\n",
    "df.to_csv(now + 'transitTimesTwoMiles.csv')"
   ]
  },
  {
   "cell_type": "code",
   "execution_count": 13,
   "metadata": {},
   "outputs": [
    {
     "data": {
      "text/plain": [
       "No trip found.    25344\n",
       "Successful Run     7417\n",
       "Origin is with       35\n",
       "Name: Message, dtype: int64"
      ]
     },
     "execution_count": 13,
     "metadata": {},
     "output_type": "execute_result"
    }
   ],
   "source": [
    "df['Message'].value_counts()"
   ]
  }
 ],
 "metadata": {
  "kernelspec": {
   "display_name": "Python3ITS",
   "language": "python",
   "name": "python3its"
  },
  "language_info": {
   "codemirror_mode": {
    "name": "ipython",
    "version": 3
   },
   "file_extension": ".py",
   "mimetype": "text/x-python",
   "name": "python",
   "nbconvert_exporter": "python",
   "pygments_lexer": "ipython3",
   "version": "3.6.9"
  }
 },
 "nbformat": 4,
 "nbformat_minor": 4
}
