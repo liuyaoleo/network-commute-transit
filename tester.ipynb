{
 "cells": [
  {
   "cell_type": "code",
   "execution_count": 1,
   "metadata": {},
   "outputs": [],
   "source": [
    "import requests\n",
    "import pandas as pd\n",
    "import multiprocessing as mp\n",
    "import datetime as dt"
   ]
  },
  {
   "cell_type": "code",
   "execution_count": 2,
   "metadata": {},
   "outputs": [],
   "source": [
    "data = pd.read_csv('SperoniOSRMdata.csv')\n",
    "keys = data.keys()\n",
    "data = pd.DataFrame(data,columns=[keys[0],keys[1],keys[2],keys[3],keys[4],keys[9],keys[8]])\n",
    "keys = data.keys()"
   ]
  },
  {
   "cell_type": "code",
   "execution_count": 4,
   "metadata": {},
   "outputs": [
    {
     "name": "stdout",
     "output_type": "stream",
     "text": [
      "[(0, 25), (25, 50), (50, 75), (75, 100)]\n"
     ]
    }
   ],
   "source": [
    "cores = mp.cpu_count()\n",
    "# rows = data.shape[0]\n",
    "rows = 100\n",
    "group = rows // cores\n",
    "\n",
    "mpCount = [(group*i,group*(i+1)) for i in range(cores)]\n",
    "\n",
    "print(mpCount)"
   ]
  },
  {
   "cell_type": "code",
   "execution_count": 5,
   "metadata": {},
   "outputs": [],
   "source": [
    "def mp_transitTime(index):\n",
    "    cols = ['Trip ID','Duration (min)','Walking Time (min)','Transit Time (min)',\n",
    "            'Walking Distance (m)','Transfers','Message']\n",
    "    responses = {cols[0]:[],cols[1]:[],cols[2]:[],\n",
    "                 cols[3]:[],cols[4]:[],cols[5]:[],cols[6]:[]}\n",
    "    worker = mp.current_process()\n",
    "    wid = worker.name\n",
    "\n",
    "    for i in range(index[0],index[1]):\n",
    "        # collecting values\n",
    "        vals = []\n",
    "        for j in range(0,len(keys)):\n",
    "            vals.append(data[keys[j]][i])\n",
    "        vals[6] = vals[6][0:-5]\n",
    "\n",
    "        # url for calling the server\n",
    "        localhost = 'http://127.0.0.1:8080/otp/routers/default/'\n",
    "        url = localhost + 'plan?'\n",
    "        url += 'fromPlace={0},{1}'.format(vals[1],vals[2])\n",
    "        url += '&toPlace={0},{1}'.format(vals[3],vals[4])\n",
    "        url += '&time={0}'.format(vals[5]) # 1:02pm\n",
    "        url += '&date={0}'.format(vals[6]) # 11-13-2017\n",
    "        url += '&mode=TRANSIT,WALK'\n",
    "        url += '&maxWalkDistance=10000'\n",
    "        url += '&arriveBy=true'\n",
    "        response = requests.get(url).json()\n",
    "\n",
    "        responses[cols[0]].append(vals[0])\n",
    "        if 'plan' in response:\n",
    "            r = response['plan']['itineraries']\n",
    "\n",
    "            responses[cols[1]].append(r[0]['duration']/60)\n",
    "            responses[cols[2]].append(r[0]['walkTime']/60)\n",
    "            responses[cols[3]].append(r[0]['transitTime']/60)\n",
    "            responses[cols[4]].append(r[0]['walkDistance'])\n",
    "            responses[cols[5]].append(r[0]['transfers'])\n",
    "            responses[cols[6]].append('Successful Run')\n",
    "        else:\n",
    "            responses[cols[1]].append(None)\n",
    "            responses[cols[2]].append(None)\n",
    "            responses[cols[3]].append(None)\n",
    "            responses[cols[4]].append(None)\n",
    "            responses[cols[5]].append(None)\n",
    "            responses[cols[6]].append(response['error']['msg'][0:14])\n",
    "            \n",
    "    now = dt.datetime.now().strftime(\"%H%M\")\n",
    "    print('index',index,'done processing', now, wid)\n",
    "    return responses"
   ]
  },
  {
   "cell_type": "code",
   "execution_count": 6,
   "metadata": {},
   "outputs": [
    {
     "name": "stdout",
     "output_type": "stream",
     "text": [
      "Starting processing at 102743\n",
      "index (75, 100) done processing 1028 ForkPoolWorker-3\n",
      "index (0, 25) done processing 1028 ForkPoolWorker-1\n",
      "index (25, 50) done processing 1028 ForkPoolWorker-2\n",
      "index (50, 75) done processing 1028 ForkPoolWorker-4\n",
      "Finished processing at 102824\n",
      "(25, 7)\n"
     ]
    },
    {
     "data": {
      "text/html": [
       "<div>\n",
       "<style scoped>\n",
       "    .dataframe tbody tr th:only-of-type {\n",
       "        vertical-align: middle;\n",
       "    }\n",
       "\n",
       "    .dataframe tbody tr th {\n",
       "        vertical-align: top;\n",
       "    }\n",
       "\n",
       "    .dataframe thead th {\n",
       "        text-align: right;\n",
       "    }\n",
       "</style>\n",
       "<table border=\"1\" class=\"dataframe\">\n",
       "  <thead>\n",
       "    <tr style=\"text-align: right;\">\n",
       "      <th></th>\n",
       "      <th>Trip ID</th>\n",
       "      <th>Duration (min)</th>\n",
       "      <th>Walking Time (min)</th>\n",
       "      <th>Transit Time (min)</th>\n",
       "      <th>Walking Distance (m)</th>\n",
       "      <th>Transfers</th>\n",
       "      <th>Message</th>\n",
       "    </tr>\n",
       "  </thead>\n",
       "  <tbody>\n",
       "    <tr>\n",
       "      <th>0</th>\n",
       "      <td>1394827</td>\n",
       "      <td>17.533333</td>\n",
       "      <td>17.533333</td>\n",
       "      <td>0.000000</td>\n",
       "      <td>1347.135308</td>\n",
       "      <td>0.0</td>\n",
       "      <td>Successful Run</td>\n",
       "    </tr>\n",
       "    <tr>\n",
       "      <th>1</th>\n",
       "      <td>1364007</td>\n",
       "      <td>169.933333</td>\n",
       "      <td>148.900000</td>\n",
       "      <td>21.000000</td>\n",
       "      <td>11579.655218</td>\n",
       "      <td>0.0</td>\n",
       "      <td>Successful Run</td>\n",
       "    </tr>\n",
       "    <tr>\n",
       "      <th>2</th>\n",
       "      <td>1022291</td>\n",
       "      <td>56.766667</td>\n",
       "      <td>52.966667</td>\n",
       "      <td>3.766667</td>\n",
       "      <td>4119.655692</td>\n",
       "      <td>0.0</td>\n",
       "      <td>Successful Run</td>\n",
       "    </tr>\n",
       "    <tr>\n",
       "      <th>3</th>\n",
       "      <td>1507106</td>\n",
       "      <td>65.916667</td>\n",
       "      <td>65.916667</td>\n",
       "      <td>0.000000</td>\n",
       "      <td>5100.425188</td>\n",
       "      <td>0.0</td>\n",
       "      <td>Successful Run</td>\n",
       "    </tr>\n",
       "    <tr>\n",
       "      <th>4</th>\n",
       "      <td>947540</td>\n",
       "      <td>68.816667</td>\n",
       "      <td>68.816667</td>\n",
       "      <td>0.000000</td>\n",
       "      <td>5336.424481</td>\n",
       "      <td>0.0</td>\n",
       "      <td>Successful Run</td>\n",
       "    </tr>\n",
       "  </tbody>\n",
       "</table>\n",
       "</div>"
      ],
      "text/plain": [
       "   Trip ID  Duration (min)  Walking Time (min)  Transit Time (min)  \\\n",
       "0  1394827       17.533333           17.533333            0.000000   \n",
       "1  1364007      169.933333          148.900000           21.000000   \n",
       "2  1022291       56.766667           52.966667            3.766667   \n",
       "3  1507106       65.916667           65.916667            0.000000   \n",
       "4   947540       68.816667           68.816667            0.000000   \n",
       "\n",
       "   Walking Distance (m)  Transfers         Message  \n",
       "0           1347.135308        0.0  Successful Run  \n",
       "1          11579.655218        0.0  Successful Run  \n",
       "2           4119.655692        0.0  Successful Run  \n",
       "3           5100.425188        0.0  Successful Run  \n",
       "4           5336.424481        0.0  Successful Run  "
      ]
     },
     "execution_count": 6,
     "metadata": {},
     "output_type": "execute_result"
    }
   ],
   "source": [
    "pool = mp.Pool(cores)\n",
    "\n",
    "now = dt.datetime.now().strftime(\"%H%M%S\")\n",
    "print('Starting processing at', now)\n",
    "\n",
    "results = pool.map(mp_transitTime,mpCount)\n",
    "\n",
    "now = dt.datetime.now().strftime(\"%H%M%S\")\n",
    "print('Finished processing at', now)\n",
    "\n",
    "df = pd.concat([pd.DataFrame(d) for d in results],ignore_index=True)\n",
    "    \n",
    "pool.close()\n",
    "\n",
    "print(df.shape)\n",
    "df.head()"
   ]
  },
  {
   "cell_type": "code",
   "execution_count": null,
   "metadata": {},
   "outputs": [],
   "source": [
    "now = dt.datetime.now().strftime(\"%Y%m%d-%H%M\")\n",
    "df.to_csv(now + 'transitTimes.csv')"
   ]
  }
 ],
 "metadata": {
  "kernelspec": {
   "display_name": "Python3Project",
   "language": "python",
   "name": "python3project"
  },
  "language_info": {
   "codemirror_mode": {
    "name": "ipython",
    "version": 3
   },
   "file_extension": ".py",
   "mimetype": "text/x-python",
   "name": "python",
   "nbconvert_exporter": "python",
   "pygments_lexer": "ipython3",
   "version": "3.8.1"
  }
 },
 "nbformat": 4,
 "nbformat_minor": 4
}
